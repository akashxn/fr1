{
  "nbformat": 4,
  "nbformat_minor": 0,
  "metadata": {
    "colab": {
      "name": "fr.ipynb",
      "provenance": []
    },
    "kernelspec": {
      "name": "python3",
      "display_name": "Python 3"
    },
    "language_info": {
      "name": "python"
    }
  },
  "cells": [
    {
      "cell_type": "code",
      "metadata": {
        "id": "pWlKr7u9tz2T"
      },
      "source": [
        "import json \n",
        "import pandas as pd \n",
        "from pandas import json_normalize\n"
      ],
      "execution_count": 2,
      "outputs": []
    },
    {
      "cell_type": "code",
      "metadata": {
        "colab": {
          "base_uri": "https://localhost:8080/",
          "height": 338
        },
        "id": "jKYiLiT5t1YY",
        "outputId": "86e25759-a334-4cf3-b669-18e7eebec5ab"
      },
      "source": [
        "with open('receipts.json') as f:\n",
        "  r = [json.loads(line) for line in f]\n",
        "f.close()\n",
        "\n",
        "receipts = json_normalize(r)\n",
        "\n",
        "receipts.head()"
      ],
      "execution_count": 3,
      "outputs": [
        {
          "output_type": "execute_result",
          "data": {
            "text/html": [
              "<div>\n",
              "<style scoped>\n",
              "    .dataframe tbody tr th:only-of-type {\n",
              "        vertical-align: middle;\n",
              "    }\n",
              "\n",
              "    .dataframe tbody tr th {\n",
              "        vertical-align: top;\n",
              "    }\n",
              "\n",
              "    .dataframe thead th {\n",
              "        text-align: right;\n",
              "    }\n",
              "</style>\n",
              "<table border=\"1\" class=\"dataframe\">\n",
              "  <thead>\n",
              "    <tr style=\"text-align: right;\">\n",
              "      <th></th>\n",
              "      <th>bonusPointsEarned</th>\n",
              "      <th>bonusPointsEarnedReason</th>\n",
              "      <th>pointsEarned</th>\n",
              "      <th>purchasedItemCount</th>\n",
              "      <th>rewardsReceiptItemList</th>\n",
              "      <th>rewardsReceiptStatus</th>\n",
              "      <th>totalSpent</th>\n",
              "      <th>userId</th>\n",
              "      <th>_id.$oid</th>\n",
              "      <th>createDate.$date</th>\n",
              "      <th>dateScanned.$date</th>\n",
              "      <th>finishedDate.$date</th>\n",
              "      <th>modifyDate.$date</th>\n",
              "      <th>pointsAwardedDate.$date</th>\n",
              "      <th>purchaseDate.$date</th>\n",
              "    </tr>\n",
              "  </thead>\n",
              "  <tbody>\n",
              "    <tr>\n",
              "      <th>0</th>\n",
              "      <td>500.0</td>\n",
              "      <td>Receipt number 2 completed, bonus point schedu...</td>\n",
              "      <td>500.0</td>\n",
              "      <td>5.0</td>\n",
              "      <td>[{'barcode': '4011', 'description': 'ITEM NOT ...</td>\n",
              "      <td>FINISHED</td>\n",
              "      <td>26.00</td>\n",
              "      <td>5ff1e1eacfcf6c399c274ae6</td>\n",
              "      <td>5ff1e1eb0a720f0523000575</td>\n",
              "      <td>1609687531000</td>\n",
              "      <td>1609687531000</td>\n",
              "      <td>1.609688e+12</td>\n",
              "      <td>1609687536000</td>\n",
              "      <td>1.609688e+12</td>\n",
              "      <td>1.609632e+12</td>\n",
              "    </tr>\n",
              "    <tr>\n",
              "      <th>1</th>\n",
              "      <td>150.0</td>\n",
              "      <td>Receipt number 5 completed, bonus point schedu...</td>\n",
              "      <td>150.0</td>\n",
              "      <td>2.0</td>\n",
              "      <td>[{'barcode': '4011', 'description': 'ITEM NOT ...</td>\n",
              "      <td>FINISHED</td>\n",
              "      <td>11.00</td>\n",
              "      <td>5ff1e194b6a9d73a3a9f1052</td>\n",
              "      <td>5ff1e1bb0a720f052300056b</td>\n",
              "      <td>1609687483000</td>\n",
              "      <td>1609687483000</td>\n",
              "      <td>1.609687e+12</td>\n",
              "      <td>1609687488000</td>\n",
              "      <td>1.609687e+12</td>\n",
              "      <td>1.609601e+12</td>\n",
              "    </tr>\n",
              "    <tr>\n",
              "      <th>2</th>\n",
              "      <td>5.0</td>\n",
              "      <td>All-receipts receipt bonus</td>\n",
              "      <td>5</td>\n",
              "      <td>1.0</td>\n",
              "      <td>[{'needsFetchReview': False, 'partnerItemId': ...</td>\n",
              "      <td>REJECTED</td>\n",
              "      <td>10.00</td>\n",
              "      <td>5ff1e1f1cfcf6c399c274b0b</td>\n",
              "      <td>5ff1e1f10a720f052300057a</td>\n",
              "      <td>1609687537000</td>\n",
              "      <td>1609687537000</td>\n",
              "      <td>NaN</td>\n",
              "      <td>1609687542000</td>\n",
              "      <td>NaN</td>\n",
              "      <td>1.609632e+12</td>\n",
              "    </tr>\n",
              "    <tr>\n",
              "      <th>3</th>\n",
              "      <td>5.0</td>\n",
              "      <td>All-receipts receipt bonus</td>\n",
              "      <td>5.0</td>\n",
              "      <td>4.0</td>\n",
              "      <td>[{'barcode': '4011', 'description': 'ITEM NOT ...</td>\n",
              "      <td>FINISHED</td>\n",
              "      <td>28.00</td>\n",
              "      <td>5ff1e1eacfcf6c399c274ae6</td>\n",
              "      <td>5ff1e1ee0a7214ada100056f</td>\n",
              "      <td>1609687534000</td>\n",
              "      <td>1609687534000</td>\n",
              "      <td>1.609688e+12</td>\n",
              "      <td>1609687539000</td>\n",
              "      <td>1.609688e+12</td>\n",
              "      <td>1.609632e+12</td>\n",
              "    </tr>\n",
              "    <tr>\n",
              "      <th>4</th>\n",
              "      <td>5.0</td>\n",
              "      <td>All-receipts receipt bonus</td>\n",
              "      <td>5.0</td>\n",
              "      <td>2.0</td>\n",
              "      <td>[{'barcode': '4011', 'description': 'ITEM NOT ...</td>\n",
              "      <td>FINISHED</td>\n",
              "      <td>1.00</td>\n",
              "      <td>5ff1e194b6a9d73a3a9f1052</td>\n",
              "      <td>5ff1e1d20a7214ada1000561</td>\n",
              "      <td>1609687506000</td>\n",
              "      <td>1609687506000</td>\n",
              "      <td>1.609688e+12</td>\n",
              "      <td>1609687511000</td>\n",
              "      <td>1.609688e+12</td>\n",
              "      <td>1.609601e+12</td>\n",
              "    </tr>\n",
              "  </tbody>\n",
              "</table>\n",
              "</div>"
            ],
            "text/plain": [
              "   bonusPointsEarned  ... purchaseDate.$date\n",
              "0              500.0  ...       1.609632e+12\n",
              "1              150.0  ...       1.609601e+12\n",
              "2                5.0  ...       1.609632e+12\n",
              "3                5.0  ...       1.609632e+12\n",
              "4                5.0  ...       1.609601e+12\n",
              "\n",
              "[5 rows x 15 columns]"
            ]
          },
          "metadata": {},
          "execution_count": 3
        }
      ]
    },
    {
      "cell_type": "code",
      "metadata": {
        "colab": {
          "base_uri": "https://localhost:8080/"
        },
        "id": "qwuNhIx8t8X4",
        "outputId": "3f57ee1e-d2cf-499f-c1aa-a9bbcd7485e4"
      },
      "source": [
        "receipts.shape"
      ],
      "execution_count": 4,
      "outputs": [
        {
          "output_type": "execute_result",
          "data": {
            "text/plain": [
              "(1119, 15)"
            ]
          },
          "metadata": {},
          "execution_count": 4
        }
      ]
    },
    {
      "cell_type": "code",
      "metadata": {
        "colab": {
          "base_uri": "https://localhost:8080/"
        },
        "id": "_GMm6LQgu4g2",
        "outputId": "cd98551a-1045-415c-b547-9e8e4ec10270"
      },
      "source": [
        "receipts.rewardsReceiptItemList[19]"
      ],
      "execution_count": 5,
      "outputs": [
        {
          "output_type": "execute_result",
          "data": {
            "text/plain": [
              "[{'barcode': '4011',\n",
              "  'description': 'ITEM NOT FOUND',\n",
              "  'finalPrice': '1',\n",
              "  'itemPrice': '1',\n",
              "  'partnerItemId': '1',\n",
              "  'quantityPurchased': 1},\n",
              " {'barcode': '1234',\n",
              "  'needsFetchReview': True,\n",
              "  'needsFetchReviewReason': 'USER_FLAGGED',\n",
              "  'partnerItemId': '2',\n",
              "  'preventTargetGapPoints': True,\n",
              "  'userFlaggedBarcode': '1234',\n",
              "  'userFlaggedDescription': '',\n",
              "  'userFlaggedNewItem': True}]"
            ]
          },
          "metadata": {},
          "execution_count": 5
        }
      ]
    },
    {
      "cell_type": "code",
      "metadata": {
        "id": "xQtBIXB4v5Ic"
      },
      "source": [
        ""
      ],
      "execution_count": 121,
      "outputs": []
    },
    {
      "cell_type": "code",
      "metadata": {
        "id": "OUEE1uUWw59V"
      },
      "source": [
        ""
      ],
      "execution_count": 116,
      "outputs": []
    },
    {
      "cell_type": "code",
      "metadata": {
        "id": "VyZrMuVcxr_W"
      },
      "source": [
        ""
      ],
      "execution_count": 112,
      "outputs": []
    },
    {
      "cell_type": "code",
      "metadata": {
        "colab": {
          "base_uri": "https://localhost:8080/",
          "height": 202
        },
        "id": "wp4yKZoY7zKO",
        "outputId": "aefac54f-c8e7-4abe-f4b1-829fe818f456"
      },
      "source": [
        "with open('brands.json') as f:\n",
        "  b = [json.loads(line) for line in f]\n",
        "f.close()\n",
        "\n",
        "brands = json_normalize(b)\n",
        "\n",
        "brands.head()"
      ],
      "execution_count": 6,
      "outputs": [
        {
          "output_type": "execute_result",
          "data": {
            "text/html": [
              "<div>\n",
              "<style scoped>\n",
              "    .dataframe tbody tr th:only-of-type {\n",
              "        vertical-align: middle;\n",
              "    }\n",
              "\n",
              "    .dataframe tbody tr th {\n",
              "        vertical-align: top;\n",
              "    }\n",
              "\n",
              "    .dataframe thead th {\n",
              "        text-align: right;\n",
              "    }\n",
              "</style>\n",
              "<table border=\"1\" class=\"dataframe\">\n",
              "  <thead>\n",
              "    <tr style=\"text-align: right;\">\n",
              "      <th></th>\n",
              "      <th>barcode</th>\n",
              "      <th>category</th>\n",
              "      <th>categoryCode</th>\n",
              "      <th>name</th>\n",
              "      <th>topBrand</th>\n",
              "      <th>_id.$oid</th>\n",
              "      <th>cpg.$id.$oid</th>\n",
              "      <th>cpg.$ref</th>\n",
              "      <th>brandCode</th>\n",
              "    </tr>\n",
              "  </thead>\n",
              "  <tbody>\n",
              "    <tr>\n",
              "      <th>0</th>\n",
              "      <td>511111019862</td>\n",
              "      <td>Baking</td>\n",
              "      <td>BAKING</td>\n",
              "      <td>test brand @1612366101024</td>\n",
              "      <td>False</td>\n",
              "      <td>601ac115be37ce2ead437551</td>\n",
              "      <td>601ac114be37ce2ead437550</td>\n",
              "      <td>Cogs</td>\n",
              "      <td>NaN</td>\n",
              "    </tr>\n",
              "    <tr>\n",
              "      <th>1</th>\n",
              "      <td>511111519928</td>\n",
              "      <td>Beverages</td>\n",
              "      <td>BEVERAGES</td>\n",
              "      <td>Starbucks</td>\n",
              "      <td>False</td>\n",
              "      <td>601c5460be37ce2ead43755f</td>\n",
              "      <td>5332f5fbe4b03c9a25efd0ba</td>\n",
              "      <td>Cogs</td>\n",
              "      <td>STARBUCKS</td>\n",
              "    </tr>\n",
              "    <tr>\n",
              "      <th>2</th>\n",
              "      <td>511111819905</td>\n",
              "      <td>Baking</td>\n",
              "      <td>BAKING</td>\n",
              "      <td>test brand @1612366146176</td>\n",
              "      <td>False</td>\n",
              "      <td>601ac142be37ce2ead43755d</td>\n",
              "      <td>601ac142be37ce2ead437559</td>\n",
              "      <td>Cogs</td>\n",
              "      <td>TEST BRANDCODE @1612366146176</td>\n",
              "    </tr>\n",
              "    <tr>\n",
              "      <th>3</th>\n",
              "      <td>511111519874</td>\n",
              "      <td>Baking</td>\n",
              "      <td>BAKING</td>\n",
              "      <td>test brand @1612366146051</td>\n",
              "      <td>False</td>\n",
              "      <td>601ac142be37ce2ead43755a</td>\n",
              "      <td>601ac142be37ce2ead437559</td>\n",
              "      <td>Cogs</td>\n",
              "      <td>TEST BRANDCODE @1612366146051</td>\n",
              "    </tr>\n",
              "    <tr>\n",
              "      <th>4</th>\n",
              "      <td>511111319917</td>\n",
              "      <td>Candy &amp; Sweets</td>\n",
              "      <td>CANDY_AND_SWEETS</td>\n",
              "      <td>test brand @1612366146827</td>\n",
              "      <td>False</td>\n",
              "      <td>601ac142be37ce2ead43755e</td>\n",
              "      <td>5332fa12e4b03c9a25efd1e7</td>\n",
              "      <td>Cogs</td>\n",
              "      <td>TEST BRANDCODE @1612366146827</td>\n",
              "    </tr>\n",
              "  </tbody>\n",
              "</table>\n",
              "</div>"
            ],
            "text/plain": [
              "        barcode        category  ... cpg.$ref                      brandCode\n",
              "0  511111019862          Baking  ...     Cogs                            NaN\n",
              "1  511111519928       Beverages  ...     Cogs                      STARBUCKS\n",
              "2  511111819905          Baking  ...     Cogs  TEST BRANDCODE @1612366146176\n",
              "3  511111519874          Baking  ...     Cogs  TEST BRANDCODE @1612366146051\n",
              "4  511111319917  Candy & Sweets  ...     Cogs  TEST BRANDCODE @1612366146827\n",
              "\n",
              "[5 rows x 9 columns]"
            ]
          },
          "metadata": {},
          "execution_count": 6
        }
      ]
    },
    {
      "cell_type": "code",
      "metadata": {
        "colab": {
          "base_uri": "https://localhost:8080/"
        },
        "id": "d_teuVGZ8nx-",
        "outputId": "a18b2695-3894-4d8f-a8d1-205eb0e47474"
      },
      "source": [
        "brands.shape"
      ],
      "execution_count": 7,
      "outputs": [
        {
          "output_type": "execute_result",
          "data": {
            "text/plain": [
              "(1167, 9)"
            ]
          },
          "metadata": {},
          "execution_count": 7
        }
      ]
    },
    {
      "cell_type": "code",
      "metadata": {
        "colab": {
          "base_uri": "https://localhost:8080/",
          "height": 202
        },
        "id": "myCac3el9nEK",
        "outputId": "2e9faa36-c810-4200-a191-0f7e364c0040"
      },
      "source": [
        "with open('users.json') as f:\n",
        "  u = [json.loads(line) for line in f]\n",
        "f.close()\n",
        "\n",
        "users = json_normalize(u)\n",
        "\n",
        "users.head()"
      ],
      "execution_count": 8,
      "outputs": [
        {
          "output_type": "execute_result",
          "data": {
            "text/html": [
              "<div>\n",
              "<style scoped>\n",
              "    .dataframe tbody tr th:only-of-type {\n",
              "        vertical-align: middle;\n",
              "    }\n",
              "\n",
              "    .dataframe tbody tr th {\n",
              "        vertical-align: top;\n",
              "    }\n",
              "\n",
              "    .dataframe thead th {\n",
              "        text-align: right;\n",
              "    }\n",
              "</style>\n",
              "<table border=\"1\" class=\"dataframe\">\n",
              "  <thead>\n",
              "    <tr style=\"text-align: right;\">\n",
              "      <th></th>\n",
              "      <th>active</th>\n",
              "      <th>role</th>\n",
              "      <th>signUpSource</th>\n",
              "      <th>state</th>\n",
              "      <th>_id.$oid</th>\n",
              "      <th>createdDate.$date</th>\n",
              "      <th>lastLogin.$date</th>\n",
              "    </tr>\n",
              "  </thead>\n",
              "  <tbody>\n",
              "    <tr>\n",
              "      <th>0</th>\n",
              "      <td>True</td>\n",
              "      <td>consumer</td>\n",
              "      <td>Email</td>\n",
              "      <td>WI</td>\n",
              "      <td>5ff1e194b6a9d73a3a9f1052</td>\n",
              "      <td>1609687444800</td>\n",
              "      <td>1.609688e+12</td>\n",
              "    </tr>\n",
              "    <tr>\n",
              "      <th>1</th>\n",
              "      <td>True</td>\n",
              "      <td>consumer</td>\n",
              "      <td>Email</td>\n",
              "      <td>WI</td>\n",
              "      <td>5ff1e194b6a9d73a3a9f1052</td>\n",
              "      <td>1609687444800</td>\n",
              "      <td>1.609688e+12</td>\n",
              "    </tr>\n",
              "    <tr>\n",
              "      <th>2</th>\n",
              "      <td>True</td>\n",
              "      <td>consumer</td>\n",
              "      <td>Email</td>\n",
              "      <td>WI</td>\n",
              "      <td>5ff1e194b6a9d73a3a9f1052</td>\n",
              "      <td>1609687444800</td>\n",
              "      <td>1.609688e+12</td>\n",
              "    </tr>\n",
              "    <tr>\n",
              "      <th>3</th>\n",
              "      <td>True</td>\n",
              "      <td>consumer</td>\n",
              "      <td>Email</td>\n",
              "      <td>WI</td>\n",
              "      <td>5ff1e1eacfcf6c399c274ae6</td>\n",
              "      <td>1609687530554</td>\n",
              "      <td>1.609688e+12</td>\n",
              "    </tr>\n",
              "    <tr>\n",
              "      <th>4</th>\n",
              "      <td>True</td>\n",
              "      <td>consumer</td>\n",
              "      <td>Email</td>\n",
              "      <td>WI</td>\n",
              "      <td>5ff1e194b6a9d73a3a9f1052</td>\n",
              "      <td>1609687444800</td>\n",
              "      <td>1.609688e+12</td>\n",
              "    </tr>\n",
              "  </tbody>\n",
              "</table>\n",
              "</div>"
            ],
            "text/plain": [
              "   active      role  ... createdDate.$date lastLogin.$date\n",
              "0    True  consumer  ...     1609687444800    1.609688e+12\n",
              "1    True  consumer  ...     1609687444800    1.609688e+12\n",
              "2    True  consumer  ...     1609687444800    1.609688e+12\n",
              "3    True  consumer  ...     1609687530554    1.609688e+12\n",
              "4    True  consumer  ...     1609687444800    1.609688e+12\n",
              "\n",
              "[5 rows x 7 columns]"
            ]
          },
          "metadata": {},
          "execution_count": 8
        }
      ]
    },
    {
      "cell_type": "code",
      "metadata": {
        "colab": {
          "base_uri": "https://localhost:8080/"
        },
        "id": "5tSvp2kO9vqY",
        "outputId": "c7787c70-fccb-4a79-a35d-dfa123063459"
      },
      "source": [
        "users.shape"
      ],
      "execution_count": 9,
      "outputs": [
        {
          "output_type": "execute_result",
          "data": {
            "text/plain": [
              "(495, 7)"
            ]
          },
          "metadata": {},
          "execution_count": 9
        }
      ]
    },
    {
      "cell_type": "code",
      "metadata": {
        "colab": {
          "base_uri": "https://localhost:8080/"
        },
        "id": "Q_I3ks1891Is",
        "outputId": "48a51fcf-756e-4e2a-e18b-0f31ef816807"
      },
      "source": [
        "receipts.isna().sum()"
      ],
      "execution_count": 10,
      "outputs": [
        {
          "output_type": "execute_result",
          "data": {
            "text/plain": [
              "bonusPointsEarned          575\n",
              "bonusPointsEarnedReason    575\n",
              "pointsEarned               510\n",
              "purchasedItemCount         484\n",
              "rewardsReceiptItemList     440\n",
              "rewardsReceiptStatus         0\n",
              "totalSpent                 435\n",
              "userId                       0\n",
              "_id.$oid                     0\n",
              "createDate.$date             0\n",
              "dateScanned.$date            0\n",
              "finishedDate.$date         551\n",
              "modifyDate.$date             0\n",
              "pointsAwardedDate.$date    582\n",
              "purchaseDate.$date         448\n",
              "dtype: int64"
            ]
          },
          "metadata": {},
          "execution_count": 10
        }
      ]
    },
    {
      "cell_type": "code",
      "metadata": {
        "colab": {
          "base_uri": "https://localhost:8080/"
        },
        "id": "L-q1pXDe1oIc",
        "outputId": "f449ad4b-09f6-441a-96bc-41e22a4bb49a"
      },
      "source": [
        "brands.isna().sum()"
      ],
      "execution_count": 12,
      "outputs": [
        {
          "output_type": "execute_result",
          "data": {
            "text/plain": [
              "barcode           0\n",
              "category        155\n",
              "categoryCode    650\n",
              "name              0\n",
              "topBrand        612\n",
              "_id.$oid          0\n",
              "cpg.$id.$oid      0\n",
              "cpg.$ref          0\n",
              "brandCode       234\n",
              "dtype: int64"
            ]
          },
          "metadata": {},
          "execution_count": 12
        }
      ]
    },
    {
      "cell_type": "code",
      "metadata": {
        "colab": {
          "base_uri": "https://localhost:8080/"
        },
        "id": "0BPjX0PS10nl",
        "outputId": "06997436-e1f7-4f91-a17d-fd22f7457a3e"
      },
      "source": [
        "users.isna().sum()"
      ],
      "execution_count": 13,
      "outputs": [
        {
          "output_type": "execute_result",
          "data": {
            "text/plain": [
              "active                0\n",
              "role                  0\n",
              "signUpSource         48\n",
              "state                56\n",
              "_id.$oid              0\n",
              "createdDate.$date     0\n",
              "lastLogin.$date      62\n",
              "dtype: int64"
            ]
          },
          "metadata": {},
          "execution_count": 13
        }
      ]
    },
    {
      "cell_type": "code",
      "metadata": {
        "colab": {
          "base_uri": "https://localhost:8080/"
        },
        "id": "MgS1Qimy14kI",
        "outputId": "206cf76f-eac7-40d5-b4c2-a6d740a49247"
      },
      "source": [
        "brands.duplicated(subset=['barcode']).any()"
      ],
      "execution_count": 14,
      "outputs": [
        {
          "output_type": "execute_result",
          "data": {
            "text/plain": [
              "True"
            ]
          },
          "metadata": {},
          "execution_count": 14
        }
      ]
    },
    {
      "cell_type": "code",
      "metadata": {
        "colab": {
          "base_uri": "https://localhost:8080/"
        },
        "id": "IDG6PO1X2s7w",
        "outputId": "1160804d-683a-43bf-9832-52f727821036"
      },
      "source": [
        "users.duplicated(subset=['_id.$oid']).any()"
      ],
      "execution_count": 19,
      "outputs": [
        {
          "output_type": "execute_result",
          "data": {
            "text/plain": [
              "True"
            ]
          },
          "metadata": {},
          "execution_count": 19
        }
      ]
    },
    {
      "cell_type": "code",
      "metadata": {
        "id": "VSSCL1U624IE"
      },
      "source": [
        ""
      ],
      "execution_count": null,
      "outputs": []
    }
  ]
}